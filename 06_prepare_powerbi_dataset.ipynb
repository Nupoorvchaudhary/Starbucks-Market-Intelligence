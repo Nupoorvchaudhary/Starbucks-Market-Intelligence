{
 "cells": [
  {
   "cell_type": "markdown",
   "id": "f9e429e1",
   "metadata": {},
   "source": [
    "# 06 – Prepare Dataset for Power BI\n",
    "Export sentiment and keyword data."
   ]
  },
  {
   "cell_type": "code",
   "execution_count": null,
   "id": "00acc31b",
   "metadata": {},
   "outputs": [],
   "source": [
    "import pandas as pd\n",
    "\n",
    "# Load processed sheets\n",
    "reviews = pd.read_excel('../data/processed/Starbucks_Processed.xlsx', sheet_name='Reviews')\n",
    "keywords = pd.read_excel('../data/processed/Starbucks_Processed.xlsx', sheet_name='Top_Keywords')\n",
    "\n",
    "# Export as CSVs for Power BI\n",
    "reviews.to_csv('../data/processed/reviews_for_powerbi.csv', index=False)\n",
    "keywords.to_csv('../data/processed/keywords_for_powerbi.csv', index=False)"
   ]
  }
 ],
 "metadata": {},
 "nbformat": 4,
 "nbformat_minor": 5
}