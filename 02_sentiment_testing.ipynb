{
 "cells": [
  {
   "cell_type": "markdown",
   "id": "42b49f63",
   "metadata": {},
   "source": [
    "# 02 – Sentiment Analysis Testing\n",
    "Test basic sentiment polarity with TextBlob and VADER."
   ]
  },
  {
   "cell_type": "code",
   "execution_count": null,
   "id": "4964b0e9",
   "metadata": {},
   "outputs": [],
   "source": [
    "from textblob import TextBlob\n",
    "from vaderSentiment.vaderSentiment import SentimentIntensityAnalyzer\n",
    "\n",
    "sample_texts = [\n",
    "    \"I love the caramel frappuccino!\",\n",
    "    \"The coffee was bad and service slow.\",\n",
    "    \"It’s okay, nothing special.\"\n",
    "]\n",
    "\n",
    "print(\"TextBlob Results:\")\n",
    "for text in sample_texts:\n",
    "    polarity = TextBlob(text).sentiment.polarity\n",
    "    print(f\"'{text}' => Polarity: {polarity}\")\n",
    "\n",
    "print(\"\\nVADER Results:\")\n",
    "analyzer = SentimentIntensityAnalyzer()\n",
    "for text in sample_texts:\n",
    "    compound = analyzer.polarity_scores(text)['compound']\n",
    "    print(f\"'{text}' => Compound Score: {compound}\")"
   ]
  }
 ],
 "metadata": {},
 "nbformat": 4,
 "nbformat_minor": 5
}