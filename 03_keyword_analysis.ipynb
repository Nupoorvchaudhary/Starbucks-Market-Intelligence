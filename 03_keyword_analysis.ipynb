{
 "cells": [
  {
   "cell_type": "markdown",
   "id": "25c43028",
   "metadata": {},
   "source": [
    "# 03 – Keyword Frequency Analysis\n",
    "Find top keywords in reviews."
   ]
  },
  {
   "cell_type": "code",
   "execution_count": null,
   "id": "c991eb72",
   "metadata": {},
   "outputs": [
    {
     "name": "stderr",
     "output_type": "stream",
     "text": [
      "[nltk_data] Downloading package stopwords to\n",
      "[nltk_data]     C:\\Users\\JATIN\\AppData\\Roaming\\nltk_data...\n",
      "[nltk_data]   Package stopwords is already up-to-date!\n"
     ]
    }
   ],
   "source": [
    "import pandas as pd\n",
    "from collections import Counter\n",
    "from nltk.corpus import stopwords\n",
    "import nltk\n",
    "\n",
    "# Download stopwords\n",
    "nltk.download('stopwords')\n",
    "\n",
    "# Load cleaned text\n",
    "df = pd.read_excel('../data/processed/Starbucks_Processed.xlsx', sheet_name='Reviews')\n",
    "\n",
    "# Extract keywords\n",
    "words = ' '.join(df['clean_text']).split()\n",
    "filtered_words = [w for w in words if w not in stopwords.words('english')]\n",
    "Counter(filtered_words).most_common(10)"
   ]
  }
 ],
 "metadata": {
  "kernelspec": {
   "display_name": "Python 3 (ipykernel)",
   "language": "python",
   "name": "python3"
  },
  "language_info": {
   "codemirror_mode": {
    "name": "ipython",
    "version": 3
   },
   "file_extension": ".py",
   "mimetype": "text/x-python",
   "name": "python",
   "nbconvert_exporter": "python",
   "pygments_lexer": "ipython3",
   "version": "3.11.0"
  }
 },
 "nbformat": 4,
 "nbformat_minor": 5
}
