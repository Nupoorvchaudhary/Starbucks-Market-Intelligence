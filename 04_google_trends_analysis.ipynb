{
 "cells": [
  {
   "cell_type": "markdown",
   "id": "98afc62b",
   "metadata": {},
   "source": [
    "# 04 – Google Trends Analysis\n",
    "Visualize Starbucks brand interest over time."
   ]
  },
  {
   "cell_type": "code",
   "execution_count": null,
   "id": "665d1846",
   "metadata": {},
   "outputs": [],
   "source": [
    "from pytrends.request import TrendReq\n",
    "import pandas as pd\n",
    "\n",
    "pytrends = TrendReq()\n",
    "pytrends.build_payload(['Starbucks'], timeframe='today 12-m')\n",
    "trends = pytrends.interest_over_time()\n",
    "trends.head()"
   ]
  }
 ],
 "metadata": {},
 "nbformat": 4,
 "nbformat_minor": 5
}